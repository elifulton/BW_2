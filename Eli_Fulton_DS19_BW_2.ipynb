{
  "nbformat": 4,
  "nbformat_minor": 0,
  "metadata": {
    "colab": {
      "name": "Eli Fulton DS19_BW_2.ipynb",
      "provenance": []
    },
    "kernelspec": {
      "name": "python3",
      "display_name": "Python 3"
    }
  },
  "cells": [
    {
      "cell_type": "markdown",
      "metadata": {
        "id": "qmHmsLxWwMm8",
        "colab_type": "text"
      },
      "source": [
        "# Importing Data"
      ]
    },
    {
      "cell_type": "code",
      "metadata": {
        "id": "c-0hlMOP3Ns2",
        "colab_type": "code",
        "colab": {}
      },
      "source": [
        "# Here, we import pandas as well as the csvs for our dataframes\n",
        "\n",
        "import pandas as pd\n",
        "\n",
        "df_95 = pd.read_csv('/content/new_york_tree_census_1995.csv')\n",
        "df_05 = pd.read_csv('/content/new_york_tree_census_2005.csv')\n",
        "df_15 = pd.read_csv('/content/new_york_tree_census_2015.csv')\n",
        "df_species = pd.read_csv('/content/new_york_tree_species.csv')"
      ],
      "execution_count": 1,
      "outputs": []
    },
    {
      "cell_type": "markdown",
      "metadata": {
        "id": "Hed-_PgCwvUU",
        "colab_type": "text"
      },
      "source": [
        "# Data Cleaning\n",
        "\n",
        "## 1995 census data"
      ]
    },
    {
      "cell_type": "code",
      "metadata": {
        "id": "hWFjjmEoxYj5",
        "colab_type": "code",
        "colab": {}
      },
      "source": [
        "# drop inconsistent features\n",
        "\n",
        "df_95 = df_95.drop(labels=['recordid', 'house_number', 'street', 'species', 'longitude', 'latitude', 'segmentid', 'location', 'x', 'y', 'zip_original', 'cb_original', 'censusblock_2010', 'support_structure', 'wires', 'site', 'sidewalk_condition'], axis=1)"
      ],
      "execution_count": 2,
      "outputs": []
    },
    {
      "cell_type": "code",
      "metadata": {
        "id": "nFx1wbdscHTq",
        "colab_type": "code",
        "colab": {}
      },
      "source": [
        "# rename columns in preparation for df_total later on\n",
        "\n",
        "df_95.rename(columns={'diameter':'tree_dbh', 'nta_2010':'nta', 'zip_new':'zipcode', 'censustract_2010':'boro_ct', 'cb_new':'cb_num'}, inplace=True) "
      ],
      "execution_count": 3,
      "outputs": []
    },
    {
      "cell_type": "code",
      "metadata": {
        "id": "E7v5KPX_cLRV",
        "colab_type": "code",
        "colab": {
          "base_uri": "https://localhost:8080/",
          "height": 206
        },
        "outputId": "fa3efbc2-5e82-4c12-8997-112251711ec6"
      },
      "source": [
        "df_95.head()"
      ],
      "execution_count": 4,
      "outputs": [
        {
          "output_type": "execute_result",
          "data": {
            "text/html": [
              "<div>\n",
              "<style scoped>\n",
              "    .dataframe tbody tr th:only-of-type {\n",
              "        vertical-align: middle;\n",
              "    }\n",
              "\n",
              "    .dataframe tbody tr th {\n",
              "        vertical-align: top;\n",
              "    }\n",
              "\n",
              "    .dataframe thead th {\n",
              "        text-align: right;\n",
              "    }\n",
              "</style>\n",
              "<table border=\"1\" class=\"dataframe\">\n",
              "  <thead>\n",
              "    <tr style=\"text-align: right;\">\n",
              "      <th></th>\n",
              "      <th>address</th>\n",
              "      <th>tree_dbh</th>\n",
              "      <th>status</th>\n",
              "      <th>borough</th>\n",
              "      <th>cb_num</th>\n",
              "      <th>zipcode</th>\n",
              "      <th>boro_ct</th>\n",
              "      <th>nta</th>\n",
              "      <th>spc_common</th>\n",
              "      <th>spc_latin</th>\n",
              "    </tr>\n",
              "  </thead>\n",
              "  <tbody>\n",
              "    <tr>\n",
              "      <th>0</th>\n",
              "      <td>73-031 57 AV</td>\n",
              "      <td>6</td>\n",
              "      <td>Good</td>\n",
              "      <td>Queens</td>\n",
              "      <td>405</td>\n",
              "      <td>11378</td>\n",
              "      <td>49302</td>\n",
              "      <td>QN30</td>\n",
              "      <td>OAK PIN</td>\n",
              "      <td>QUERCUS PALUSTRIS</td>\n",
              "    </tr>\n",
              "    <tr>\n",
              "      <th>1</th>\n",
              "      <td>2434 HOFFMAN ST</td>\n",
              "      <td>10</td>\n",
              "      <td>Excellent</td>\n",
              "      <td>Bronx</td>\n",
              "      <td>206</td>\n",
              "      <td>10458</td>\n",
              "      <td>389</td>\n",
              "      <td>BX06</td>\n",
              "      <td>HONEYLOCUST</td>\n",
              "      <td>GLEDITSIA TRIACANTHOS</td>\n",
              "    </tr>\n",
              "    <tr>\n",
              "      <th>2</th>\n",
              "      <td>33 MULBERRY CIR</td>\n",
              "      <td>21</td>\n",
              "      <td>Good</td>\n",
              "      <td>Staten Island</td>\n",
              "      <td>502</td>\n",
              "      <td>10314</td>\n",
              "      <td>29103</td>\n",
              "      <td>SI05</td>\n",
              "      <td>OAK NORTHERN RED</td>\n",
              "      <td>QUERCUS RUBRA</td>\n",
              "    </tr>\n",
              "    <tr>\n",
              "      <th>3</th>\n",
              "      <td>79-037 213 ST</td>\n",
              "      <td>15</td>\n",
              "      <td>Poor</td>\n",
              "      <td>Queens</td>\n",
              "      <td>411</td>\n",
              "      <td>11364</td>\n",
              "      <td>129103</td>\n",
              "      <td>QN42</td>\n",
              "      <td>MAPLE NORWAY</td>\n",
              "      <td>ACER PLATANOIDES</td>\n",
              "    </tr>\n",
              "    <tr>\n",
              "      <th>4</th>\n",
              "      <td>68-015 172 ST</td>\n",
              "      <td>7</td>\n",
              "      <td>Good</td>\n",
              "      <td>Queens</td>\n",
              "      <td>408</td>\n",
              "      <td>11365</td>\n",
              "      <td>1223</td>\n",
              "      <td>QN38</td>\n",
              "      <td>MAPLE NORWAY</td>\n",
              "      <td>ACER PLATANOIDES</td>\n",
              "    </tr>\n",
              "  </tbody>\n",
              "</table>\n",
              "</div>"
            ],
            "text/plain": [
              "           address  tree_dbh  ...        spc_common              spc_latin\n",
              "0     73-031 57 AV         6  ...           OAK PIN      QUERCUS PALUSTRIS\n",
              "1  2434 HOFFMAN ST        10  ...       HONEYLOCUST  GLEDITSIA TRIACANTHOS\n",
              "2  33 MULBERRY CIR        21  ...  OAK NORTHERN RED          QUERCUS RUBRA\n",
              "3    79-037 213 ST        15  ...      MAPLE NORWAY       ACER PLATANOIDES\n",
              "4    68-015 172 ST         7  ...      MAPLE NORWAY       ACER PLATANOIDES\n",
              "\n",
              "[5 rows x 10 columns]"
            ]
          },
          "metadata": {
            "tags": []
          },
          "execution_count": 4
        }
      ]
    },
    {
      "cell_type": "markdown",
      "metadata": {
        "id": "CyvOrZA2whih",
        "colab_type": "text"
      },
      "source": [
        "## 2005 census data"
      ]
    },
    {
      "cell_type": "code",
      "metadata": {
        "id": "tNlJ3V1ZvQZ0",
        "colab_type": "code",
        "colab": {}
      },
      "source": [
        "# drop inconsistent features\n",
        "\n",
        "df_05 = df_05.drop(labels=['objectid', 'cen_year', 'tree_loc', 'pit_type', 'soil_lvl', 'vert_other', 'vert_pgrd', 'vert_tgrd', 'vert_wall', 'horz_blck', 'horz_grate', 'horz_plant', 'horz_other', 'wire_htap', 'wire_prime', 'wire_2nd', 'wire_other', 'inf_canopy', 'inf_guard', 'inf_wires', 'inf_paving', 'inf_outlet', 'inf_shoes', 'inf_lights', 'inf_other', 'trunk_dmg', 'zip_city', 'borocode', 'cncldist', 'st_assem', 'st_senate', 'nta_name', 'x_sp', 'y_sp', 'objectid_1', 'sidw_crack', 'sidw_raise'], axis=1)"
      ],
      "execution_count": 5,
      "outputs": []
    },
    {
      "cell_type": "code",
      "metadata": {
        "id": "QPUJ_EEs1kiq",
        "colab_type": "code",
        "colab": {}
      },
      "source": [
        "# drop entries with null nta values\n",
        "\n",
        "df_05 = df_05.dropna(subset=['nta'])"
      ],
      "execution_count": 6,
      "outputs": []
    },
    {
      "cell_type": "code",
      "metadata": {
        "id": "FrU5nZV7VLFi",
        "colab_type": "code",
        "colab": {}
      },
      "source": [
        "# rename columns in preparation for df_total later on\n",
        "\n",
        "df_05.rename(columns = {'location_1':'address', 'boroname':'borough'}, inplace=True)"
      ],
      "execution_count": 7,
      "outputs": []
    },
    {
      "cell_type": "code",
      "metadata": {
        "id": "kuR-ZFtccNkj",
        "colab_type": "code",
        "colab": {
          "base_uri": "https://localhost:8080/",
          "height": 206
        },
        "outputId": "c5e4b60e-c6aa-4a91-f1f8-6782cfa1c410"
      },
      "source": [
        "df_05.head()"
      ],
      "execution_count": 8,
      "outputs": [
        {
          "output_type": "execute_result",
          "data": {
            "text/html": [
              "<div>\n",
              "<style scoped>\n",
              "    .dataframe tbody tr th:only-of-type {\n",
              "        vertical-align: middle;\n",
              "    }\n",
              "\n",
              "    .dataframe tbody tr th {\n",
              "        vertical-align: top;\n",
              "    }\n",
              "\n",
              "    .dataframe thead th {\n",
              "        text-align: right;\n",
              "    }\n",
              "</style>\n",
              "<table border=\"1\" class=\"dataframe\">\n",
              "  <thead>\n",
              "    <tr style=\"text-align: right;\">\n",
              "      <th></th>\n",
              "      <th>tree_dbh</th>\n",
              "      <th>status</th>\n",
              "      <th>spc_latin</th>\n",
              "      <th>spc_common</th>\n",
              "      <th>zipcode</th>\n",
              "      <th>cb_num</th>\n",
              "      <th>borough</th>\n",
              "      <th>nta</th>\n",
              "      <th>boro_ct</th>\n",
              "      <th>address</th>\n",
              "    </tr>\n",
              "  </thead>\n",
              "  <tbody>\n",
              "    <tr>\n",
              "      <th>0</th>\n",
              "      <td>9.0</td>\n",
              "      <td>Good</td>\n",
              "      <td>PLATANUS ACERIFOLIA</td>\n",
              "      <td>LONDON PLANETREE</td>\n",
              "      <td>10308.0</td>\n",
              "      <td>503.0</td>\n",
              "      <td>5</td>\n",
              "      <td>SI54</td>\n",
              "      <td>NaN</td>\n",
              "      <td>235 BROOKFIELD AVENUE</td>\n",
              "    </tr>\n",
              "    <tr>\n",
              "      <th>3</th>\n",
              "      <td>7.0</td>\n",
              "      <td>Good</td>\n",
              "      <td>PYRUS CALLERYANA</td>\n",
              "      <td>PEAR CALLERY</td>\n",
              "      <td>11105.0</td>\n",
              "      <td>401.0</td>\n",
              "      <td>Queens</td>\n",
              "      <td>QN72</td>\n",
              "      <td>4011700.0</td>\n",
              "      <td>23-59 36 STREET</td>\n",
              "    </tr>\n",
              "    <tr>\n",
              "      <th>6</th>\n",
              "      <td>11.0</td>\n",
              "      <td>Good</td>\n",
              "      <td>ZELKOVA SERRATA</td>\n",
              "      <td>ZELKOVA JAPANESE</td>\n",
              "      <td>11217.0</td>\n",
              "      <td>302.0</td>\n",
              "      <td>Brooklyn</td>\n",
              "      <td>BK38</td>\n",
              "      <td>3003900.0</td>\n",
              "      <td>491 ATLANTIC AVENUE</td>\n",
              "    </tr>\n",
              "    <tr>\n",
              "      <th>9</th>\n",
              "      <td>23.0</td>\n",
              "      <td>Good</td>\n",
              "      <td>PLATANUS ACERIFOLIA</td>\n",
              "      <td>LONDON PLANETREE</td>\n",
              "      <td>11228.0</td>\n",
              "      <td>310.0</td>\n",
              "      <td>Brooklyn</td>\n",
              "      <td>BK30</td>\n",
              "      <td>3014000.0</td>\n",
              "      <td>8306 10 AVENUE</td>\n",
              "    </tr>\n",
              "    <tr>\n",
              "      <th>12</th>\n",
              "      <td>10.0</td>\n",
              "      <td>Excellent</td>\n",
              "      <td>ACER PSEUDOPLATANUS</td>\n",
              "      <td>MAPLE SYCAMORE</td>\n",
              "      <td>11368.0</td>\n",
              "      <td>404.0</td>\n",
              "      <td>Queens</td>\n",
              "      <td>QN25</td>\n",
              "      <td>4042700.0</td>\n",
              "      <td>106-26 50 AVENUE</td>\n",
              "    </tr>\n",
              "  </tbody>\n",
              "</table>\n",
              "</div>"
            ],
            "text/plain": [
              "    tree_dbh     status  ...    boro_ct                address\n",
              "0        9.0       Good  ...        NaN  235 BROOKFIELD AVENUE\n",
              "3        7.0       Good  ...  4011700.0        23-59 36 STREET\n",
              "6       11.0       Good  ...  3003900.0    491 ATLANTIC AVENUE\n",
              "9       23.0       Good  ...  3014000.0         8306 10 AVENUE\n",
              "12      10.0  Excellent  ...  4042700.0       106-26 50 AVENUE\n",
              "\n",
              "[5 rows x 10 columns]"
            ]
          },
          "metadata": {
            "tags": []
          },
          "execution_count": 8
        }
      ]
    },
    {
      "cell_type": "markdown",
      "metadata": {
        "id": "ETa26Zd1wlrO",
        "colab_type": "text"
      },
      "source": [
        "## 2015 census data"
      ]
    },
    {
      "cell_type": "code",
      "metadata": {
        "id": "GYn1T0waxfpK",
        "colab_type": "code",
        "colab": {}
      },
      "source": [
        "# drop inconsistent features\n",
        "\n",
        "df_15 = df_15.drop(labels=['tree_id', 'block_id', 'created_at', 'stump_diam', 'curb_loc', 'health', 'steward', 'guards', 'user_type', 'problems', 'root_stone', 'root_grate', 'root_other', 'trunk_wire', 'trnk_light', 'trnk_other', 'brch_light', 'brch_shoe', 'brch_other', 'zip_city', 'borocode', 'cncldist', 'st_assem', 'st_senate', 'nta_name', 'state', 'latitude', 'longitude', 'x_sp', 'y_sp', 'sidewalk'], axis=1)"
      ],
      "execution_count": 9,
      "outputs": []
    },
    {
      "cell_type": "code",
      "metadata": {
        "id": "GdM4Kfza0TUp",
        "colab_type": "code",
        "colab": {}
      },
      "source": [
        "# rename boroname to borough in preparation for df_total\n",
        "\n",
        "df_15.rename(columns={'boroname':'borough'}, inplace=True)"
      ],
      "execution_count": 10,
      "outputs": []
    },
    {
      "cell_type": "code",
      "metadata": {
        "id": "XhCalZL0BkYv",
        "colab_type": "code",
        "colab": {}
      },
      "source": [
        "# convert the spc_latin and spc_common columns to uppercase, to be more consistent with other dataframes\n",
        "\n",
        "df_15['spc_latin'] = df_15['spc_latin'].str.upper() \n",
        "df_15['spc_common'] = df_15['spc_common'].str.upper() "
      ],
      "execution_count": 11,
      "outputs": []
    },
    {
      "cell_type": "code",
      "metadata": {
        "id": "eeY39mnncS14",
        "colab_type": "code",
        "colab": {}
      },
      "source": [
        "# drop entries with null spc_common values\n",
        "\n",
        "df_15 = df_15.dropna(subset=['spc_common'])"
      ],
      "execution_count": 12,
      "outputs": []
    },
    {
      "cell_type": "code",
      "metadata": {
        "id": "08jOmj_ooary",
        "colab_type": "code",
        "colab": {
          "base_uri": "https://localhost:8080/",
          "height": 206
        },
        "outputId": "b60bc94e-8345-46d6-e4e3-aa5de18b8926"
      },
      "source": [
        "df_15.head()"
      ],
      "execution_count": 13,
      "outputs": [
        {
          "output_type": "execute_result",
          "data": {
            "text/html": [
              "<div>\n",
              "<style scoped>\n",
              "    .dataframe tbody tr th:only-of-type {\n",
              "        vertical-align: middle;\n",
              "    }\n",
              "\n",
              "    .dataframe tbody tr th {\n",
              "        vertical-align: top;\n",
              "    }\n",
              "\n",
              "    .dataframe thead th {\n",
              "        text-align: right;\n",
              "    }\n",
              "</style>\n",
              "<table border=\"1\" class=\"dataframe\">\n",
              "  <thead>\n",
              "    <tr style=\"text-align: right;\">\n",
              "      <th></th>\n",
              "      <th>tree_dbh</th>\n",
              "      <th>status</th>\n",
              "      <th>spc_latin</th>\n",
              "      <th>spc_common</th>\n",
              "      <th>address</th>\n",
              "      <th>zipcode</th>\n",
              "      <th>cb_num</th>\n",
              "      <th>borough</th>\n",
              "      <th>nta</th>\n",
              "      <th>boro_ct</th>\n",
              "    </tr>\n",
              "  </thead>\n",
              "  <tbody>\n",
              "    <tr>\n",
              "      <th>0</th>\n",
              "      <td>10</td>\n",
              "      <td>Alive</td>\n",
              "      <td>FRAXINUS PENNSYLVANICA</td>\n",
              "      <td>GREEN ASH</td>\n",
              "      <td>76-046 164 STREET</td>\n",
              "      <td>11366</td>\n",
              "      <td>408</td>\n",
              "      <td>Queens</td>\n",
              "      <td>QN37</td>\n",
              "      <td>4125700</td>\n",
              "    </tr>\n",
              "    <tr>\n",
              "      <th>1</th>\n",
              "      <td>9</td>\n",
              "      <td>Alive</td>\n",
              "      <td>GLEDITSIA TRIACANTHOS VAR. INERMIS</td>\n",
              "      <td>HONEYLOCUST</td>\n",
              "      <td>72-020 32 AVENUE</td>\n",
              "      <td>11370</td>\n",
              "      <td>403</td>\n",
              "      <td>Queens</td>\n",
              "      <td>QN28</td>\n",
              "      <td>4030902</td>\n",
              "    </tr>\n",
              "    <tr>\n",
              "      <th>2</th>\n",
              "      <td>7</td>\n",
              "      <td>Alive</td>\n",
              "      <td>PYRUS CALLERYANA</td>\n",
              "      <td>CALLERY PEAR</td>\n",
              "      <td>153-026 119 AVENUE</td>\n",
              "      <td>11434</td>\n",
              "      <td>412</td>\n",
              "      <td>Queens</td>\n",
              "      <td>QN76</td>\n",
              "      <td>4028800</td>\n",
              "    </tr>\n",
              "    <tr>\n",
              "      <th>3</th>\n",
              "      <td>10</td>\n",
              "      <td>Alive</td>\n",
              "      <td>PYRUS CALLERYANA</td>\n",
              "      <td>CALLERY PEAR</td>\n",
              "      <td>89 89 STREET</td>\n",
              "      <td>11209</td>\n",
              "      <td>310</td>\n",
              "      <td>Brooklyn</td>\n",
              "      <td>BK31</td>\n",
              "      <td>3005000</td>\n",
              "    </tr>\n",
              "    <tr>\n",
              "      <th>4</th>\n",
              "      <td>4</td>\n",
              "      <td>Alive</td>\n",
              "      <td>PRUNUS VIRGINIANA</td>\n",
              "      <td>'SCHUBERT' CHOKECHERRY</td>\n",
              "      <td>559 BEACH 68 STREET</td>\n",
              "      <td>11692</td>\n",
              "      <td>414</td>\n",
              "      <td>Queens</td>\n",
              "      <td>QN12</td>\n",
              "      <td>4095400</td>\n",
              "    </tr>\n",
              "  </tbody>\n",
              "</table>\n",
              "</div>"
            ],
            "text/plain": [
              "   tree_dbh status                           spc_latin  ...   borough   nta  boro_ct\n",
              "0        10  Alive              FRAXINUS PENNSYLVANICA  ...    Queens  QN37  4125700\n",
              "1         9  Alive  GLEDITSIA TRIACANTHOS VAR. INERMIS  ...    Queens  QN28  4030902\n",
              "2         7  Alive                    PYRUS CALLERYANA  ...    Queens  QN76  4028800\n",
              "3        10  Alive                    PYRUS CALLERYANA  ...  Brooklyn  BK31  3005000\n",
              "4         4  Alive                   PRUNUS VIRGINIANA  ...    Queens  QN12  4095400\n",
              "\n",
              "[5 rows x 10 columns]"
            ]
          },
          "metadata": {
            "tags": []
          },
          "execution_count": 13
        }
      ]
    },
    {
      "cell_type": "markdown",
      "metadata": {
        "id": "8VqPAjaw08kV",
        "colab_type": "text"
      },
      "source": [
        "## Total (concatenated) census data"
      ]
    },
    {
      "cell_type": "code",
      "metadata": {
        "id": "gIMDMcgy9T6u",
        "colab_type": "code",
        "colab": {}
      },
      "source": [
        "# concatenate the dataframes to make df_total, a dataframe with every entry\n",
        "\n",
        "df_total = pd.concat([df_95, df_05, df_15])"
      ],
      "execution_count": 14,
      "outputs": []
    },
    {
      "cell_type": "code",
      "metadata": {
        "id": "w-_JFwMUhwMM",
        "colab_type": "code",
        "colab": {
          "base_uri": "https://localhost:8080/",
          "height": 206
        },
        "outputId": "5eee6523-7223-4436-9469-9fc485af4725"
      },
      "source": [
        "df_total.head()"
      ],
      "execution_count": 15,
      "outputs": [
        {
          "output_type": "execute_result",
          "data": {
            "text/html": [
              "<div>\n",
              "<style scoped>\n",
              "    .dataframe tbody tr th:only-of-type {\n",
              "        vertical-align: middle;\n",
              "    }\n",
              "\n",
              "    .dataframe tbody tr th {\n",
              "        vertical-align: top;\n",
              "    }\n",
              "\n",
              "    .dataframe thead th {\n",
              "        text-align: right;\n",
              "    }\n",
              "</style>\n",
              "<table border=\"1\" class=\"dataframe\">\n",
              "  <thead>\n",
              "    <tr style=\"text-align: right;\">\n",
              "      <th></th>\n",
              "      <th>address</th>\n",
              "      <th>tree_dbh</th>\n",
              "      <th>status</th>\n",
              "      <th>borough</th>\n",
              "      <th>cb_num</th>\n",
              "      <th>zipcode</th>\n",
              "      <th>boro_ct</th>\n",
              "      <th>nta</th>\n",
              "      <th>spc_common</th>\n",
              "      <th>spc_latin</th>\n",
              "    </tr>\n",
              "  </thead>\n",
              "  <tbody>\n",
              "    <tr>\n",
              "      <th>0</th>\n",
              "      <td>73-031 57 AV</td>\n",
              "      <td>6.0</td>\n",
              "      <td>Good</td>\n",
              "      <td>Queens</td>\n",
              "      <td>405.0</td>\n",
              "      <td>11378.0</td>\n",
              "      <td>49302</td>\n",
              "      <td>QN30</td>\n",
              "      <td>OAK PIN</td>\n",
              "      <td>QUERCUS PALUSTRIS</td>\n",
              "    </tr>\n",
              "    <tr>\n",
              "      <th>1</th>\n",
              "      <td>2434 HOFFMAN ST</td>\n",
              "      <td>10.0</td>\n",
              "      <td>Excellent</td>\n",
              "      <td>Bronx</td>\n",
              "      <td>206.0</td>\n",
              "      <td>10458.0</td>\n",
              "      <td>389</td>\n",
              "      <td>BX06</td>\n",
              "      <td>HONEYLOCUST</td>\n",
              "      <td>GLEDITSIA TRIACANTHOS</td>\n",
              "    </tr>\n",
              "    <tr>\n",
              "      <th>2</th>\n",
              "      <td>33 MULBERRY CIR</td>\n",
              "      <td>21.0</td>\n",
              "      <td>Good</td>\n",
              "      <td>Staten Island</td>\n",
              "      <td>502.0</td>\n",
              "      <td>10314.0</td>\n",
              "      <td>29103</td>\n",
              "      <td>SI05</td>\n",
              "      <td>OAK NORTHERN RED</td>\n",
              "      <td>QUERCUS RUBRA</td>\n",
              "    </tr>\n",
              "    <tr>\n",
              "      <th>3</th>\n",
              "      <td>79-037 213 ST</td>\n",
              "      <td>15.0</td>\n",
              "      <td>Poor</td>\n",
              "      <td>Queens</td>\n",
              "      <td>411.0</td>\n",
              "      <td>11364.0</td>\n",
              "      <td>129103</td>\n",
              "      <td>QN42</td>\n",
              "      <td>MAPLE NORWAY</td>\n",
              "      <td>ACER PLATANOIDES</td>\n",
              "    </tr>\n",
              "    <tr>\n",
              "      <th>4</th>\n",
              "      <td>68-015 172 ST</td>\n",
              "      <td>7.0</td>\n",
              "      <td>Good</td>\n",
              "      <td>Queens</td>\n",
              "      <td>408.0</td>\n",
              "      <td>11365.0</td>\n",
              "      <td>1223</td>\n",
              "      <td>QN38</td>\n",
              "      <td>MAPLE NORWAY</td>\n",
              "      <td>ACER PLATANOIDES</td>\n",
              "    </tr>\n",
              "  </tbody>\n",
              "</table>\n",
              "</div>"
            ],
            "text/plain": [
              "           address  tree_dbh  ...        spc_common              spc_latin\n",
              "0     73-031 57 AV       6.0  ...           OAK PIN      QUERCUS PALUSTRIS\n",
              "1  2434 HOFFMAN ST      10.0  ...       HONEYLOCUST  GLEDITSIA TRIACANTHOS\n",
              "2  33 MULBERRY CIR      21.0  ...  OAK NORTHERN RED          QUERCUS RUBRA\n",
              "3    79-037 213 ST      15.0  ...      MAPLE NORWAY       ACER PLATANOIDES\n",
              "4    68-015 172 ST       7.0  ...      MAPLE NORWAY       ACER PLATANOIDES\n",
              "\n",
              "[5 rows x 10 columns]"
            ]
          },
          "metadata": {
            "tags": []
          },
          "execution_count": 15
        }
      ]
    },
    {
      "cell_type": "markdown",
      "metadata": {
        "id": "v79qAph-09Jf",
        "colab_type": "text"
      },
      "source": [
        "# Model Time!"
      ]
    },
    {
      "cell_type": "markdown",
      "metadata": {
        "id": "0nueF9sCrPm5",
        "colab_type": "text"
      },
      "source": [
        "## Data Split"
      ]
    },
    {
      "cell_type": "code",
      "metadata": {
        "id": "fJpZKfNt4LQg",
        "colab_type": "code",
        "colab": {}
      },
      "source": [
        "# a standard random train test split of our data to avoid leakage: the target is 'status' or health of the tree\n",
        "\n",
        "from sklearn.model_selection import train_test_split\n",
        "\n",
        "target = 'status'\n",
        "y = df_total[target]\n",
        "X = df_total.drop(target, axis=1)\n",
        "\n",
        "X_train, X_val, y_train, y_val = train_test_split(X, y, test_size=0.2, random_state=42)"
      ],
      "execution_count": 16,
      "outputs": []
    },
    {
      "cell_type": "code",
      "metadata": {
        "id": "9ZY6xUmY4aio",
        "colab_type": "code",
        "colab": {
          "base_uri": "https://localhost:8080/",
          "height": 34
        },
        "outputId": "952aaad2-2837-4096-80d0-c49affa494cd"
      },
      "source": [
        "# baseline accuracy is pretty low at about 40.8 percent, but let's see if a logistic regression can get over this low bar\n",
        "\n",
        "print('Baseline Accuracy:', y_train.value_counts(normalize=True).max())"
      ],
      "execution_count": 17,
      "outputs": [
        {
          "output_type": "stream",
          "text": [
            "Baseline Accuracy: 0.408503009348188\n"
          ],
          "name": "stdout"
        }
      ]
    },
    {
      "cell_type": "markdown",
      "metadata": {
        "id": "c2YXd5l8sPUb",
        "colab_type": "text"
      },
      "source": [
        "## Logistic Regression Model"
      ]
    },
    {
      "cell_type": "code",
      "metadata": {
        "id": "Q0N6lPCMsO0D",
        "colab_type": "code",
        "colab": {
          "base_uri": "https://localhost:8080/",
          "height": 402
        },
        "outputId": "0a22cd2e-0019-45d5-bb68-78e93cb3c89b"
      },
      "source": [
        "# import model packages\n",
        "\n",
        "!pip install category_encoders\n",
        "\n",
        "from category_encoders import OrdinalEncoder\n",
        "from sklearn.impute import SimpleImputer\n",
        "from sklearn.linear_model import LogisticRegression\n",
        "from sklearn.pipeline import make_pipeline\n",
        "\n",
        "# create pipline to ordinal encode and impute the entire dataframe, then perform a logistic regression\n",
        "\n",
        "logistic_model = make_pipeline(\n",
        "    OrdinalEncoder(),\n",
        "    SimpleImputer(),\n",
        "    LogisticRegression()\n",
        ")\n",
        "\n",
        "# fit the training data to the model\n",
        "\n",
        "logistic_model.fit(X_train, y_train);"
      ],
      "execution_count": 18,
      "outputs": [
        {
          "output_type": "stream",
          "text": [
            "Requirement already satisfied: category_encoders in /usr/local/lib/python3.6/dist-packages (2.2.2)\n",
            "Requirement already satisfied: patsy>=0.5.1 in /usr/local/lib/python3.6/dist-packages (from category_encoders) (0.5.1)\n",
            "Requirement already satisfied: statsmodels>=0.9.0 in /usr/local/lib/python3.6/dist-packages (from category_encoders) (0.10.2)\n",
            "Requirement already satisfied: numpy>=1.14.0 in /usr/local/lib/python3.6/dist-packages (from category_encoders) (1.18.5)\n",
            "Requirement already satisfied: scikit-learn>=0.20.0 in /usr/local/lib/python3.6/dist-packages (from category_encoders) (0.22.2.post1)\n",
            "Requirement already satisfied: pandas>=0.21.1 in /usr/local/lib/python3.6/dist-packages (from category_encoders) (1.0.5)\n",
            "Requirement already satisfied: scipy>=1.0.0 in /usr/local/lib/python3.6/dist-packages (from category_encoders) (1.4.1)\n",
            "Requirement already satisfied: six in /usr/local/lib/python3.6/dist-packages (from patsy>=0.5.1->category_encoders) (1.15.0)\n",
            "Requirement already satisfied: joblib>=0.11 in /usr/local/lib/python3.6/dist-packages (from scikit-learn>=0.20.0->category_encoders) (0.16.0)\n",
            "Requirement already satisfied: pytz>=2017.2 in /usr/local/lib/python3.6/dist-packages (from pandas>=0.21.1->category_encoders) (2018.9)\n",
            "Requirement already satisfied: python-dateutil>=2.6.1 in /usr/local/lib/python3.6/dist-packages (from pandas>=0.21.1->category_encoders) (2.8.1)\n"
          ],
          "name": "stdout"
        },
        {
          "output_type": "stream",
          "text": [
            "/usr/local/lib/python3.6/dist-packages/statsmodels/tools/_testing.py:19: FutureWarning: pandas.util.testing is deprecated. Use the functions in the public API at pandas.testing instead.\n",
            "  import pandas.util.testing as tm\n",
            "/usr/local/lib/python3.6/dist-packages/sklearn/linear_model/_logistic.py:940: ConvergenceWarning: lbfgs failed to converge (status=1):\n",
            "STOP: TOTAL NO. of ITERATIONS REACHED LIMIT.\n",
            "\n",
            "Increase the number of iterations (max_iter) or scale the data as shown in:\n",
            "    https://scikit-learn.org/stable/modules/preprocessing.html\n",
            "Please also refer to the documentation for alternative solver options:\n",
            "    https://scikit-learn.org/stable/modules/linear_model.html#logistic-regression\n",
            "  extra_warning_msg=_LOGISTIC_SOLVER_CONVERGENCE_MSG)\n"
          ],
          "name": "stderr"
        }
      ]
    },
    {
      "cell_type": "code",
      "metadata": {
        "id": "PVJnHXirt4B_",
        "colab_type": "code",
        "colab": {
          "base_uri": "https://localhost:8080/",
          "height": 52
        },
        "outputId": "b436522d-8932-4afe-e3b6-3b08254a3052"
      },
      "source": [
        "# it actually performs slightly worse than the baseline... oof\n",
        "\n",
        "print('Training Accuracy (LR):', logistic_model.score(X_train, y_train))\n",
        "print('Validation Accuracy (LR):', logistic_model.score(X_val, y_val))"
      ],
      "execution_count": 19,
      "outputs": [
        {
          "output_type": "stream",
          "text": [
            "Training Accuracy (LR): 0.4007282003910786\n",
            "Validation Accuracy (LR): 0.4005945306632211\n"
          ],
          "name": "stdout"
        }
      ]
    },
    {
      "cell_type": "markdown",
      "metadata": {
        "id": "0dxQw7ipsQCJ",
        "colab_type": "text"
      },
      "source": [
        "## Random Forest Classification Model"
      ]
    },
    {
      "cell_type": "code",
      "metadata": {
        "id": "lYts5HNM4f3Z",
        "colab_type": "code",
        "colab": {}
      },
      "source": [
        "# importing the random forest classification package\n",
        "\n",
        "from sklearn.ensemble import RandomForestClassifier\n",
        "\n",
        "# new pipeline for random forest, again with ordinal encoding and imputing\n",
        "\n",
        "forest_model = make_pipeline(\n",
        "    OrdinalEncoder(),\n",
        "    SimpleImputer(),\n",
        "    RandomForestClassifier(n_jobs=-1, random_state=42, max_depth=15)\n",
        ")\n",
        "\n",
        "# fitting training data to forest model\n",
        "\n",
        "forest_model.fit(X_train, y_train);"
      ],
      "execution_count": null,
      "outputs": []
    },
    {
      "cell_type": "code",
      "metadata": {
        "id": "dpR5a6954u-W",
        "colab_type": "code",
        "colab": {}
      },
      "source": [
        "# this time we clear the baseline by a good bit\n",
        "\n",
        "print('Training Accuracy (RF):', forest_model.score(X_train, y_train))\n",
        "print('Validation Accuracy (RF):', forest_model.score(X_val, y_val))"
      ],
      "execution_count": null,
      "outputs": []
    },
    {
      "cell_type": "markdown",
      "metadata": {
        "id": "pYMajvPFfNwK",
        "colab_type": "text"
      },
      "source": [
        "## Feature Importances (Random Forest Model)"
      ]
    },
    {
      "cell_type": "code",
      "metadata": {
        "id": "ihd0oqksHQY_",
        "colab_type": "code",
        "colab": {}
      },
      "source": [
        "# creating a basic feature importances bar graph from the random forest model\n",
        "\n",
        "feature_imp = forest_model.named_steps['randomforestclassifier'].feature_importances_\n",
        "features = X_train.columns\n",
        "pd.Series(feature_imp, features).sort_values(ascending=False).plot(kind='barh')"
      ],
      "execution_count": null,
      "outputs": []
    },
    {
      "cell_type": "markdown",
      "metadata": {
        "id": "nV0dm9WtfTr2",
        "colab_type": "text"
      },
      "source": [
        "# Creating Map Visuals"
      ]
    },
    {
      "cell_type": "markdown",
      "metadata": {
        "id": "O5YZty4mh2R1",
        "colab_type": "text"
      },
      "source": [
        "## Map Dataframe"
      ]
    },
    {
      "cell_type": "code",
      "metadata": {
        "id": "a9HQjYtINHst",
        "colab_type": "code",
        "colab": {}
      },
      "source": [
        "# setting up queens data for the map_df, which will be used for making the chloropleth\n",
        "\n",
        "queens_good = (df_total[df_total['borough'] == 'Queens']['status'] == 'Good').sum() + (df_total[df_total['borough'] == 'Queens']['status'] == 'Excellent').sum() + (df_total[df_total['borough'] == 'Queens']['status'] == 'Fair').sum()\n",
        "queens_bad = (df_total[df_total['borough'] == 'Queens']['status'] == 'Poor').sum() + (df_total[df_total['borough'] == 'Queens']['status'] == 'Dead').sum() + (df_total[df_total['borough'] == 'Queens']['status'] == 'Critical').sum()\n",
        "queens_total = queens_good + queens_bad\n",
        "\n",
        "# brooklyn data for map_df\n",
        "\n",
        "brooklyn_good = (df_total[df_total['borough'] == 'Brooklyn']['status'] == 'Good').sum() + (df_total[df_total['borough'] == 'Brooklyn']['status'] == 'Excellent').sum() + (df_total[df_total['borough'] == 'Brooklyn']['status'] == 'Fair').sum()\n",
        "brooklyn_bad = (df_total[df_total['borough'] == 'Brooklyn']['status'] == 'Poor').sum() + (df_total[df_total['borough'] == 'Brooklyn']['status'] == 'Dead').sum() + (df_total[df_total['borough'] == 'Brooklyn']['status'] == 'Critical').sum()\n",
        "brooklyn_total = brooklyn_good + brooklyn_bad\n",
        "\n",
        "# bronx data for map_df\n",
        "\n",
        "bronx_good = (df_total[df_total['borough'] == 'Bronx']['status'] == 'Good').sum() + (df_total[df_total['borough'] == 'Bronx']['status'] == 'Excellent').sum() + (df_total[df_total['borough'] == 'Bronx']['status'] == 'Fair').sum()\n",
        "bronx_bad = (df_total[df_total['borough'] == 'Bronx']['status'] == 'Poor').sum() + (df_total[df_total['borough'] == 'Bronx']['status'] == 'Dead').sum() + (df_total[df_total['borough'] == 'Bronx']['status'] == 'Critical').sum()\n",
        "bronx_total = bronx_good + bronx_bad\n",
        "\n",
        "# staten island data for map_df\n",
        "\n",
        "staten_island_good = (df_total[df_total['borough'] == 'Staten Island']['status'] == 'Good').sum() + (df_total[df_total['borough'] == 'Staten Island']['status'] == 'Excellent').sum() + (df_total[df_total['borough'] == 'Staten Island']['status'] == 'Fair').sum()\n",
        "staten_island_bad = (df_total[df_total['borough'] == 'Staten Island']['status'] == 'Poor').sum() + (df_total[df_total['borough'] == 'Staten Island']['status'] == 'Dead').sum() + (df_total[df_total['borough'] == 'Staten Island']['status'] == 'Critical').sum()\n",
        "staten_island_total = staten_island_good + staten_island_bad\n",
        "\n",
        "# manhattan data for map_df\n",
        "\n",
        "manhattan_good = (df_total[df_total['borough'] == 'Manhattan']['status'] == 'Good').sum() + (df_total[df_total['borough'] == 'Manhattan']['status'] == 'Excellent').sum() + (df_total[df_total['borough'] == 'Manhattan']['status'] == 'Fair').sum()\n",
        "manhattan_bad = (df_total[df_total['borough'] == 'Manhattan']['status'] == 'Poor').sum() + (df_total[df_total['borough'] == 'Manhattan']['status'] == 'Dead').sum() + (df_total[df_total['borough'] == 'Manhattan']['status'] == 'Critical').sum()\n",
        "manhattan_total = manhattan_good + manhattan_bad\n",
        "\n",
        "# creating map_df with empty columns borough, num_good_trees, num_bad_trees, and total_trees\n",
        "\n",
        "map_df = pd.DataFrame(columns=['borough', 'num_good_trees', 'num_bad_trees', 'total_trees'])\n",
        "\n",
        "# adding data created before to map_df, filling it in\n",
        "\n",
        "map_df = map_df.append({'borough':'Queens', 'num_good_trees':queens_good, 'num_bad_trees':queens_bad, 'total_trees':queens_total}, ignore_index=True)\n",
        "map_df = map_df.append({'borough':'Brooklyn', 'num_good_trees':brooklyn_good, 'num_bad_trees':brooklyn_bad, 'total_trees':brooklyn_total}, ignore_index=True)\n",
        "map_df = map_df.append({'borough':'Bronx', 'num_good_trees':bronx_good, 'num_bad_trees':bronx_bad, 'total_trees':bronx_total}, ignore_index=True)\n",
        "map_df = map_df.append({'borough':'Staten Island', 'num_good_trees':staten_island_good, 'num_bad_trees':staten_island_bad, 'total_trees':staten_island_total}, ignore_index=True)\n",
        "map_df = map_df.append({'borough':'Manhattan', 'num_good_trees':manhattan_good, 'num_bad_trees':manhattan_bad, 'total_trees':manhattan_total}, ignore_index=True)\n",
        "\n",
        "# engineering percentage of good and bad trees per borough\n",
        "\n",
        "map_df['percentage_good'] = map_df['num_good_trees'] / map_df['total_trees']\n",
        "map_df['percentage_bad'] = map_df['num_bad_trees'] / map_df['total_trees']"
      ],
      "execution_count": null,
      "outputs": []
    },
    {
      "cell_type": "code",
      "metadata": {
        "id": "-oDcDi6SYYGT",
        "colab_type": "code",
        "colab": {}
      },
      "source": [
        "map_df"
      ],
      "execution_count": null,
      "outputs": []
    },
    {
      "cell_type": "markdown",
      "metadata": {
        "id": "Qug_k0pTh4o_",
        "colab_type": "text"
      },
      "source": [
        "## Map"
      ]
    },
    {
      "cell_type": "code",
      "metadata": {
        "id": "ijimgfNK1Ccv",
        "colab_type": "code",
        "colab": {}
      },
      "source": [
        "# importing folium, then setting up the map object with appropriate coordinates\n",
        "\n",
        "import folium\n",
        "map = folium.Map(location=[40.693943, -73.985880])"
      ],
      "execution_count": null,
      "outputs": []
    },
    {
      "cell_type": "code",
      "metadata": {
        "id": "D-q9j9o-4Ela",
        "colab_type": "code",
        "colab": {}
      },
      "source": [
        "# using add_to method to make our map into a chloropleth with the following parameters\n",
        "\n",
        "folium.Choropleth(\n",
        "    geo_data='/content/Borough Boundaries.geojson',\n",
        "    data=map_df,\n",
        "    columns=['borough', 'percentage_good'],\n",
        "    key_on='feature.properties.boro_name',\n",
        "    fill_color='BuPu',\n",
        "    fill_opacity=0.7,\n",
        "    line_opacity=0.3\n",
        ").add_to(map)"
      ],
      "execution_count": null,
      "outputs": []
    },
    {
      "cell_type": "code",
      "metadata": {
        "id": "cONTvv65MB1G",
        "colab_type": "code",
        "colab": {}
      },
      "source": [
        "map"
      ],
      "execution_count": null,
      "outputs": []
    }
  ]
}